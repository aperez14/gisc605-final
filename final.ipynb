### Add a file called final.ipynb to your repository
### An alternative workflow is to use Google Collaboratory to create a Jupyter Notebook
### Write a function called howdy_planet that uses print() to output "Howdy Planet!"
### In another code cell in the same notebook instantiate a variable called directions and set it equal to a list of the four cardinal directions: ["North", "South", "East", "West"]
### Write a for loop that uses print() to output the contents of directions
### If using Codespaces, commit your changes.

#Write a function called howdy_planet that uses print() to output "Howdy Planet!" ---------

function howdy_planet() {
    print("Howdy Planet!")
  }

name=directions

echo "$North, $South, $East, $West"

#Write a loop -----------

directions="North South East West"

for direction in ${directions}
do
    echo "${direction}"
done

#Write a loop that uses print-----------

directions="North South East West"

for direction in ${directions}
do
    print "${direction}"
done
