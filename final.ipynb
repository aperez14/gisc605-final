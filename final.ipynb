#Write a function called howdy_planet that uses print() to output "Howdy Planet!" ---------

function howdy_planet() {
    print("Howdy Planet!")
  }

directions = ["North", "South", "East", "West"]

for direction in directions:
    print (direction)
