
function howdy_planet() {
    print("Howdy Planet!")
  }

directions = ["North", "South", "East", "West"]

for direction in directions:
    print (direction)
